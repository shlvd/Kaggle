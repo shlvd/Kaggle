{
 "cells": [
  {
   "cell_type": "code",
   "execution_count": null,
   "metadata": {
    "collapsed": true,
    "pycharm": {
     "name": "#%%\n"
    }
   },
   "outputs": [],
   "source": [
    "import pandas as pd\n",
    "import numpy as np\n",
    "from numba import jit\n",
    "@jit\n",
    "def eval_gini(y_true, y_pred):\n",
    "    y_true = np.asarray(y_true)\n",
    "    y_true = y_true[np.argsort(y_pred)]\n",
    "    ntrue = 0\n",
    "    gini = 0\n",
    "    delta = 0\n",
    "    n = len(y_true)\n",
    "    for i in range(n-1, -1, -1):\n",
    "        y_i = y_true[i]\n",
    "        ntrue += y_i\n",
    "        gini += y_i * delta\n",
    "        delta += 1 - y_i\n",
    "    gini = 1 - 2 * gini / (ntrue * (n - ntrue))\n",
    "    return gini\n",
    "lgb_oof = pd.read_csv(\"../input/workbook-lgb/lgb_oof.csv\")\n",
    "dnn_oof = pd.read_csv(\"../input/workbook-dae/dnn_oof.csv\")\n",
    "target = pd.read_csv(\"../input/porto-seguro-safe-driver-prediction/train.csv\", usecols=['id','target'])\n"
   ]
  },
  {
   "cell_type": "code",
   "execution_count": null,
   "outputs": [],
   "source": [
    "lgb_oof_ranks = (lgb_oof.target.rank() / len(lgb_oof))\n",
    "dnn_oof_ranks = (dnn_oof.target.rank() / len(dnn_oof))"
   ],
   "metadata": {
    "collapsed": false,
    "pycharm": {
     "name": "#%%\n"
    }
   }
  },
  {
   "cell_type": "code",
   "execution_count": null,
   "outputs": [],
   "source": [
    "baseline = eval_gini(y_true=target.target, y_pred=lgb_oof_ranks)\n",
    "print(f\"starting from a oof lgb baseline {baseline:0.5f}\\n\")\n",
    "best_alpha = 1.0\n",
    "for alpha in [0.1, 0.2, 0.3, 0.4, 0.5, 0.6, 0.7, 0.8, 0.9]:\n",
    "    ensemble = alpha * lgb_oof_ranks + (1.0 - alpha) * dnn_oof_ranks\n",
    "    score = eval_gini(y_true=target.target, y_pred=ensemble)\n",
    "    print(f\"lgd={alpha:0.1f} dnn={(1.0 - alpha):0.1f} -> {score:0.5f}\")\n",
    "\n",
    "    if score > baseline:\n",
    "        baseline = score\n",
    "        best_alpha = alpha\n",
    "\n",
    "print(f\"\\nBest alpha is {best_alpha:0.1f}\")"
   ],
   "metadata": {
    "collapsed": false,
    "pycharm": {
     "name": "#%%\n"
    }
   }
  },
  {
   "cell_type": "code",
   "execution_count": null,
   "outputs": [],
   "source": [
    "lgb_submission = pd.read_csv(\"../input/workbook-lgb/lgb_submission.csv\")\n",
    "dnn_submission = pd.read_csv(\"../input/workbook-dae/dnn_submission.csv\")\n",
    "submission = pd.read_csv(\n",
    "    \"../input/porto-seguro-safe-driver-prediction/sample_submission.csv\")"
   ],
   "metadata": {
    "collapsed": false,
    "pycharm": {
     "name": "#%%\n"
    }
   }
  },
  {
   "cell_type": "code",
   "execution_count": null,
   "outputs": [],
   "source": [
    "lgb_ranks = (lgb_submission.target.rank() / len(lgb_submission))\n",
    "dnn_ranks = (dnn_submission.target.rank() / len(dnn_submission))\n",
    "submission.target = lgb_ranks * 0.5 + dnn_ranks * 0.5\n",
    "submission.to_csv(\"equal_blend_rank.csv\", index=False)"
   ],
   "metadata": {
    "collapsed": false,
    "pycharm": {
     "name": "#%%\n"
    }
   }
  },
  {
   "cell_type": "code",
   "execution_count": null,
   "outputs": [],
   "source": [
    "lgb_ranks = (lgb_submission.target.rank() / len(lgb_submission))\n",
    "dnn_ranks = (dnn_submission.target.rank() / len(dnn_submission))\n",
    "submission.target = lgb_ranks * best_alpha +  dnn_ranks * (1.0 - best_alpha)\n",
    "submission.to_csv(\"blend_rank.csv\", index=False)"
   ],
   "metadata": {
    "collapsed": false,
    "pycharm": {
     "name": "#%%\n"
    }
   }
  }
 ],
 "metadata": {
  "kernelspec": {
   "display_name": "Python 3",
   "language": "python",
   "name": "python3"
  },
  "language_info": {
   "codemirror_mode": {
    "name": "ipython",
    "version": 2
   },
   "file_extension": ".py",
   "mimetype": "text/x-python",
   "name": "python",
   "nbconvert_exporter": "python",
   "pygments_lexer": "ipython2",
   "version": "2.7.6"
  }
 },
 "nbformat": 4,
 "nbformat_minor": 0
}