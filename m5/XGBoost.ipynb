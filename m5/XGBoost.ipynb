{
  "nbformat": 4,
  "nbformat_minor": 0,
  "metadata": {
    "colab": {
      "name": "XGBoost",
      "provenance": []
    },
    "kernelspec": {
      "name": "python3",
      "display_name": "Python 3"
    }
  },
  "cells": [
    {
      "cell_type": "code",
      "metadata": {
        "id": "8a0f0FPR3wbz",
        "colab_type": "code",
        "colab": {}
      },
      "source": [
        "import pandas as pd\n",
        "import numpy as np\n",
        "import matplotlib.pylab as plt\n",
        "import seaborn as sns\n",
        "from fbprophet import Prophet\n",
        "from itertools import cycle\n",
        "import warnings\n",
        "warnings.filterwarnings('ignore')\n",
        "import dask.dataframe as dd\n",
        "pd.set_option('display.max_columns', 500)\n",
        "pd.set_option('display.max_rows', 500)\n",
        "import lightgbm as lgb\n",
        "import dask_xgboost as xgb\n",
        "import dask.dataframe as dd\n",
        "from sklearn import preprocessing, metrics\n",
        "from sklearn.model_selection import StratifiedKFold, KFold, RepeatedKFold, GroupKFold, GridSearchCV, train_test_split, TimeSeriesSplit\n",
        "import gc\n",
        "import os\n",
        "from  datetime import datetime, timedelta\n",
        "import gc\n",
        "import lightgbm as lgb\n",
        "from sklearn.preprocessing import LabelEncoder\n",
        "from sklearn.ensemble import RandomForestRegressor\n",
        "from xgboost import XGBRegressor\n",
        "\n",
        "def label(X, categorical_cols):\n",
        "\n",
        "    for col in categorical_cols:\n",
        "                 \n",
        "        le = LabelEncoder()\n",
        "        #not_null = df[col][df[col].notnull()]\n",
        "        X[col] = X[col].fillna('nan')\n",
        "        X[col] = pd.Series(le.fit_transform(X[col]), index=X.index)\n",
        "\n",
        "    return X"
      ],
      "execution_count": 0,
      "outputs": []
    },
    {
      "cell_type": "code",
      "metadata": {
        "id": "UkskDy2z3zxJ",
        "colab_type": "code",
        "colab": {}
      },
      "source": [
        "def reduce_mem_usage(df, verbose=True):\n",
        "    numerics = ['int16', 'int32', 'int64', 'float16', 'float32', 'float64']\n",
        "    start_mem = df.memory_usage().sum() / 1024**2    \n",
        "    for col in df.columns: \n",
        "        col_type = df[col].dtypes\n",
        "        if col_type in numerics: \n",
        "            c_min = df[col].min()\n",
        "            c_max = df[col].max()\n",
        "            if str(col_type)[:3] == 'int':\n",
        "                if c_min > np.iinfo(np.int8).min and c_max < np.iinfo(np.int8).max:\n",
        "                    df[col] = df[col].astype(np.int8)\n",
        "                elif c_min > np.iinfo(np.int16).min and c_max < np.iinfo(np.int16).max:\n",
        "                    df[col] = df[col].astype(np.int16)\n",
        "                elif c_min > np.iinfo(np.int32).min and c_max < np.iinfo(np.int32).max:\n",
        "                    df[col] = df[col].astype(np.int32)\n",
        "                elif c_min > np.iinfo(np.int64).min and c_max < np.iinfo(np.int64).max:\n",
        "                    df[col] = df[col].astype(np.int64)  \n",
        "            else:\n",
        "                if c_min > np.finfo(np.float16).min and c_max < np.finfo(np.float16).max:\n",
        "                    df[col] = df[col].astype(np.float16)\n",
        "                elif c_min > np.finfo(np.float32).min and c_max < np.finfo(np.float32).max:\n",
        "                    df[col] = df[col].astype(np.float32)\n",
        "                else:\n",
        "                    df[col] = df[col].astype(np.float64)    \n",
        "    end_mem = df.memory_usage().sum() / 1024**2\n",
        "    if verbose: print('Mem. usage decreased to {:5.2f} Mb ({:.1f}% reduction)'.format(end_mem, 100 * (start_mem - end_mem) / start_mem))\n",
        "    return df\n",
        "\n",
        "ss = pd.read_csv('../input/m5-forecasting-accuracy/sales_train_validation.csv')\n",
        "sales = reduce_mem_usage(ss)\n",
        "\n",
        "cr = pd.read_csv('../input/m5-forecasting-accuracy/calendar.csv')\n",
        "calendar = reduce_mem_usage(cr)\n",
        "\n",
        "ps = pd.read_csv('../input/m5-forecasting-accuracy/sell_prices.csv')\n",
        "prices = reduce_mem_usage(ps)\n",
        "\n",
        "se = pd.read_csv('../input/m5-forecasting-accuracy/sample_submission.csv')\n",
        "sample = reduce_mem_usage(se)"
      ],
      "execution_count": 0,
      "outputs": []
    },
    {
      "cell_type": "code",
      "metadata": {
        "id": "gx44aNm73zvP",
        "colab_type": "code",
        "colab": {}
      },
      "source": [
        "data = sales.iloc[:, pd.np.r_[0,-100:0]]\n",
        "data = data.melt('id', var_name='d', value_name='demand')\n",
        "\n",
        "data = data.merge(calendar)\n",
        "media = data.groupby(['id','wday'])['demand'].mean()\n",
        "\n",
        "# make a copy of the sample submission\n",
        "sub = sample.copy()\n",
        "# select only the rows with an id with the validation tag\n",
        "sub.columns = ['id'] + ['d_' + str(1914+x) for x in range(28)]\n",
        "sub = sub.loc[sub.id.str.contains('validation')]\n",
        "sub = sub.melt('id', var_name='d', value_name='demand')\n",
        "\n",
        "val_rows = len(sub)"
      ],
      "execution_count": 0,
      "outputs": []
    },
    {
      "cell_type": "code",
      "metadata": {
        "id": "vYKSAQfh3zsK",
        "colab_type": "code",
        "colab": {}
      },
      "source": [
        "y = data.demand\n",
        "features = ['id', 'd', 'wday']\n",
        "X_raw = data[features]\n",
        "\n",
        "X = label(X_raw, ['id', 'd'])\n",
        "\n",
        "X_train = X[:-val_rows]\n",
        "X_valid  = X[-val_rows:]\n",
        "\n",
        "y_train = y[:-val_rows]"
      ],
      "execution_count": 0,
      "outputs": []
    },
    {
      "cell_type": "code",
      "metadata": {
        "id": "TC_-OKaj3zpe",
        "colab_type": "code",
        "colab": {}
      },
      "source": [
        "from xgboost import XGBRegressor\n",
        "\n",
        "# Define the model\n",
        "model = XGBRegressor(n_estimators = 1000, learning_rate = 0.05)\n",
        "\n",
        "# Fit the model\n",
        "model.fit(X_train, y_train)"
      ],
      "execution_count": 0,
      "outputs": []
    },
    {
      "cell_type": "code",
      "metadata": {
        "id": "Aa2LVglW4AI8",
        "colab_type": "code",
        "colab": {}
      },
      "source": [
        "preds_val = model.predict(X_valid)\n",
        "sub['demand'] = preds_val\n",
        "temp = sub.pivot(index='id', columns='d', values='demand')\n",
        "temp.reset_index(inplace=True)"
      ],
      "execution_count": 0,
      "outputs": []
    },
    {
      "cell_type": "code",
      "metadata": {
        "id": "U6cCOsHL3_9o",
        "colab_type": "code",
        "colab": {}
      },
      "source": [
        "submission = sample[['id']].copy()\n",
        "submission = submission.merge(temp)\n",
        "submission = pd.concat([submission, submission], axis=0)\n",
        "submission['id'] = sample.id.values\n",
        "submission.columns = ['id'] + ['F' + str(i) for i in range(1,29)]\n",
        "submission.head()\n",
        "submission.to_csv('submission.csv', index=False)"
      ],
      "execution_count": 0,
      "outputs": []
    }
  ]
}