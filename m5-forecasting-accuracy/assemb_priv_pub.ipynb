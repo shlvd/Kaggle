{
 "cells": [
  {
   "cell_type": "code",
   "execution_count": null,
   "metadata": {
    "collapsed": true,
    "pycharm": {
     "name": "#%%\n"
    }
   },
   "outputs": [],
   "source": [
    "import numpy as np\n",
    "import pandas as pd\n",
    "import os\n",
    "import random\n",
    "import math\n",
    "from decimal import Decimal as dec\n",
    "import datetime\n",
    "import time\n",
    "import gc\n",
    "import lightgbm as lgb\n",
    "import pickle\n",
    "import warnings\n",
    "warnings.filterwarnings(\"ignore\", category=UserWarning)\n",
    "store_id_set_list = ['CA_1', 'CA_2', 'CA_3', 'CA_4', 'TX_1', 'TX_2', 'TX_3', 'WI_1', 'WI_2', 'WI_3']\n",
    "end_train_day_x_list = [1913, 1941]\n",
    "prediction_horizon_list = [7, 14, 21, 28]\n",
    "pred_v_all_df = list()\n",
    "for end_train_day_x in end_train_day_x_list:\n",
    "    previous_prediction_horizon = 0\n",
    "    for prediction_horizon in prediction_horizon_list:\n",
    "        notebook_name = f\"../input/m5-train-day-{end_train_day_x}-horizon-{prediction_horizon}\"\n",
    "        pred_v_df = pd.DataFrame()\n",
    "\n",
    "        for store_index, store_id in enumerate(store_id_set_list):\n",
    "\n",
    "            model_path = str(f'{notebook_name}/lgb_model_{store_id}_{prediction_horizon}.bin')\n",
    "            print(f'loading {model_path}')\n",
    "            estimator = pickle.load(open(model_path, 'rb'))\n",
    "            base_test = pd.read_feather(f\"{notebook_name}/test_{store_id}_{prediction_horizon}.feather\")\n",
    "            enable_features = [col for col in base_test.columns if col not in ['id', 'd', 'sales']]\n",
    "\n",
    "            for predict_day in range(previous_prediction_horizon + 1, prediction_horizon + 1):\n",
    "                print('[{3} -> {4}] predict {0}/{1} {2} day {5}'.format(\n",
    "                    store_index + 1, len(store_id_set_list), store_id,\n",
    "                    previous_prediction_horizon + 1, prediction_horizon, predict_day))\n",
    "                mask = base_test['d'] == (end_train_day_x + predict_day)\n",
    "                base_test.loc[mask, 'sales'] = estimator.predict(base_test[mask][enable_features])\n",
    "\n",
    "            temp_v_df = base_test[\n",
    "                (base_test['d'] >= end_train_day_x + previous_prediction_horizon + 1) &\n",
    "                (base_test['d'] < end_train_day_x + prediction_horizon + 1)\n",
    "                ][['id', 'd', 'sales']]\n",
    "\n",
    "            if len(pred_v_df)!=0:\n",
    "                pred_v_df = pd.concat([pred_v_df, temp_v_df])\n",
    "            else:\n",
    "                pred_v_df = temp_v_df.copy()\n",
    "\n",
    "            del(temp_v_df)\n",
    "            gc.collect()\n",
    "\n",
    "        previous_prediction_horizon = prediction_horizon\n",
    "        pred_v_all_df.append(pred_v_df)\n",
    "\n",
    "pred_v_all_df = pd.concat(pred_v_all_df)"
   ]
  },
  {
   "cell_type": "code",
   "execution_count": null,
   "outputs": [],
   "source": [
    "submission = pd.read_csv(\"../input/m5-forecasting-accuracy/sample_submission.csv\")\n",
    "pred_v_all_df.d = pred_v_all_df.d - end_train_day_x_list\n",
    "pred_h_all_df = pred_v_all_df.pivot(index='id', columns='d', values='sales')\n",
    "pred_h_all_df = pred_h_all_df.reset_index()\n",
    "pred_h_all_df.columns = submission.columns\n",
    "submission = submission[['id']].merge(pred_h_all_df, on=['id'], how='left').fillna(0)\n",
    "submission.to_csv(\"m5_predictions.csv\", index=False)"
   ],
   "metadata": {
    "collapsed": false,
    "pycharm": {
     "name": "#%%\n"
    }
   }
  }
 ],
 "metadata": {
  "kernelspec": {
   "display_name": "Python 3",
   "language": "python",
   "name": "python3"
  },
  "language_info": {
   "codemirror_mode": {
    "name": "ipython",
    "version": 2
   },
   "file_extension": ".py",
   "mimetype": "text/x-python",
   "name": "python",
   "nbconvert_exporter": "python",
   "pygments_lexer": "ipython2",
   "version": "2.7.6"
  }
 },
 "nbformat": 4,
 "nbformat_minor": 0
}